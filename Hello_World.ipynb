{
  "nbformat": 4,
  "nbformat_minor": 0,
  "metadata": {
    "colab": {
      "name": "Hello_World.ipynb",
      "provenance": []
    },
    "kernelspec": {
      "name": "python3",
      "display_name": "Python 3"
    },
    "language_info": {
      "name": "python"
    }
  },
  "cells": [
    {
      "cell_type": "code",
      "metadata": {
        "id": "yeLU4MAZ1s2w"
      },
      "source": [
        "import tensorflow as tf\n",
        "from tensorflow import keras\n",
        "import numpy as np\n",
        "import matplotlib.pyplot as plt"
      ],
      "execution_count": 1,
      "outputs": []
    },
    {
      "cell_type": "code",
      "metadata": {
        "id": "_nqP7OAP9g5E"
      },
      "source": [
        "number_of_datapoints = 1000\n",
        "# generate random x values in the range -5 to +5\n",
        "x = np.random.uniform(low = -5 , high = 5 , size = (number_of_datapoints, 1))\n",
        "# generate random y values in the range -5 to +5\n",
        "y = np.random.uniform(-5 , 5 , size = (number_of_datapoints , 1))\n",
        "# generate some random error in the range -1 to +1\n",
        "noise = np.random.uniform(low =-1 , high =1, size = (number_of_datapoints, 1))\n",
        "z = 7 * x + 6 * y + 5 + noise"
      ],
      "execution_count": 2,
      "outputs": []
    },
    {
      "cell_type": "code",
      "metadata": {
        "id": "AFSDjDDz9jDT"
      },
      "source": [
        "input = np.column_stack((x,y))"
      ],
      "execution_count": 3,
      "outputs": []
    },
    {
      "cell_type": "code",
      "metadata": {
        "id": "z2dW3M3H9oTV"
      },
      "source": [
        "model = tf.keras.Sequential([tf.keras.layers.Dense(units=1)])"
      ],
      "execution_count": 4,
      "outputs": []
    },
    {
      "cell_type": "code",
      "metadata": {
        "id": "bdmVM8zg928S"
      },
      "source": [
        "model.compile(optimizer = 'sgd' , loss = 'mean_squared_error' , metrics = ['mse'] )"
      ],
      "execution_count": 5,
      "outputs": []
    },
    {
      "cell_type": "code",
      "metadata": {
        "id": "Zh2eRfyS95A_"
      },
      "source": [
        "from tensorflow.keras.callbacks import History \n",
        "history = History()"
      ],
      "execution_count": 6,
      "outputs": []
    },
    {
      "cell_type": "code",
      "metadata": {
        "colab": {
          "base_uri": "https://localhost:8080/"
        },
        "id": "cJN2iK3S7gGO",
        "outputId": "d57abf66-ed2b-4bcd-baf9-6648b5595b81"
      },
      "source": [
        "model.fit(\n",
        "    input,\n",
        "    z,\n",
        "    epochs = 15,\n",
        "    verbose = 1,\n",
        "    validation_split = 0.2,\n",
        "    callbacks = [history]\n",
        ")"
      ],
      "execution_count": 7,
      "outputs": [
        {
          "output_type": "stream",
          "text": [
            "Epoch 1/15\n",
            "25/25 [==============================] - 1s 9ms/step - loss: 115.0061 - mse: 115.0061 - val_loss: 9.4997 - val_mse: 9.4997\n",
            "Epoch 2/15\n",
            "25/25 [==============================] - 0s 2ms/step - loss: 6.0803 - mse: 6.0803 - val_loss: 3.7080 - val_mse: 3.7080\n",
            "Epoch 3/15\n",
            "25/25 [==============================] - 0s 2ms/step - loss: 2.4203 - mse: 2.4203 - val_loss: 1.6095 - val_mse: 1.6095\n",
            "Epoch 4/15\n",
            "25/25 [==============================] - 0s 2ms/step - loss: 1.0985 - mse: 1.0985 - val_loss: 0.8389 - val_mse: 0.8389\n",
            "Epoch 5/15\n",
            "25/25 [==============================] - 0s 2ms/step - loss: 0.6171 - mse: 0.6171 - val_loss: 0.5357 - val_mse: 0.5357\n",
            "Epoch 6/15\n",
            "25/25 [==============================] - 0s 2ms/step - loss: 0.4387 - mse: 0.4387 - val_loss: 0.4278 - val_mse: 0.4278\n",
            "Epoch 7/15\n",
            "25/25 [==============================] - 0s 3ms/step - loss: 0.3736 - mse: 0.3736 - val_loss: 0.3883 - val_mse: 0.3883\n",
            "Epoch 8/15\n",
            "25/25 [==============================] - 0s 2ms/step - loss: 0.3492 - mse: 0.3492 - val_loss: 0.3694 - val_mse: 0.3694\n",
            "Epoch 9/15\n",
            "25/25 [==============================] - 0s 3ms/step - loss: 0.3402 - mse: 0.3402 - val_loss: 0.3570 - val_mse: 0.3570\n",
            "Epoch 10/15\n",
            "25/25 [==============================] - 0s 3ms/step - loss: 0.3384 - mse: 0.3384 - val_loss: 0.3570 - val_mse: 0.3570\n",
            "Epoch 11/15\n",
            "25/25 [==============================] - 0s 3ms/step - loss: 0.3365 - mse: 0.3365 - val_loss: 0.3622 - val_mse: 0.3622\n",
            "Epoch 12/15\n",
            "25/25 [==============================] - 0s 2ms/step - loss: 0.3366 - mse: 0.3366 - val_loss: 0.3566 - val_mse: 0.3566\n",
            "Epoch 13/15\n",
            "25/25 [==============================] - 0s 2ms/step - loss: 0.3361 - mse: 0.3361 - val_loss: 0.3593 - val_mse: 0.3593\n",
            "Epoch 14/15\n",
            "25/25 [==============================] - 0s 3ms/step - loss: 0.3359 - mse: 0.3359 - val_loss: 0.3585 - val_mse: 0.3585\n",
            "Epoch 15/15\n",
            "25/25 [==============================] - 0s 2ms/step - loss: 0.3362 - mse: 0.3362 - val_loss: 0.3572 - val_mse: 0.3572\n"
          ],
          "name": "stdout"
        },
        {
          "output_type": "execute_result",
          "data": {
            "text/plain": [
              "<tensorflow.python.keras.callbacks.History at 0x7f160a2cd390>"
            ]
          },
          "metadata": {
            "tags": []
          },
          "execution_count": 7
        }
      ]
    },
    {
      "cell_type": "code",
      "metadata": {
        "colab": {
          "base_uri": "https://localhost:8080/"
        },
        "id": "cdphxF-k8HJ4",
        "outputId": "157f7aed-3216-40bf-8402-46c6deff87d4"
      },
      "source": [
        "print(history.history.keys())"
      ],
      "execution_count": 8,
      "outputs": [
        {
          "output_type": "stream",
          "text": [
            "dict_keys(['loss', 'mse', 'val_loss', 'val_mse'])\n"
          ],
          "name": "stdout"
        }
      ]
    },
    {
      "cell_type": "code",
      "metadata": {
        "id": "HKHbVmGU_xeq",
        "colab": {
          "base_uri": "https://localhost:8080/",
          "height": 295
        },
        "outputId": "9a51be7a-e5ce-4cd1-add7-80af925572a6"
      },
      "source": [
        "plt.plot(history.history[\"loss\"])\n",
        "plt.plot(history.history[\"val_loss\"])\n",
        "plt.title(\"Accuracy\")\n",
        "plt.ylabel(\"Loss\")\n",
        "plt.xlabel(\"Epoch\")\n",
        "plt.legend([\"train\", \"validation\"], loc=\"upper right\")\n",
        "plt.show()"
      ],
      "execution_count": 14,
      "outputs": [
        {
          "output_type": "display_data",
          "data": {
            "image/png": "[encoded data removed]",
            "text/plain": [
              "<Figure size 432x288 with 1 Axes>"
            ]
          },
          "metadata": {
            "tags": [],
            "needs_background": "light"
          }
        }
      ]
    },
    {
      "cell_type": "code",
      "metadata": {
        "colab": {
          "base_uri": "https://localhost:8080/",
          "height": 295
        },
        "id": "17lwG84ba-4E",
        "outputId": "6f0a98e7-864e-498c-89d1-c9b594e98686"
      },
      "source": [
        "plt.plot(history.history[\"mse\"])\n",
        "plt.plot(history.history[\"val_mse\"])\n",
        "plt.title(\"Mean Squared Error\")\n",
        "plt.ylabel(\"MSE\")\n",
        "plt.xlabel(\"Epoch\")\n",
        "plt.legend([\"train\", \"validation\"], loc=\"upper right\")\n",
        "plt.show()"
      ],
      "execution_count": 15,
      "outputs": [
        {
          "output_type": "display_data",
          "data": {
            "image/png": "[encoded data removed]",
            "text/plain": [
              "<Figure size 432x288 with 1 Axes>"
            ]
          },
          "metadata": {
            "tags": [],
            "needs_background": "light"
          }
        }
      ]
    },
    {
      "cell_type": "code",
      "metadata": {
        "colab": {
          "base_uri": "https://localhost:8080/",
          "height": 279
        },
        "id": "9p5JZMoFb5V4",
        "outputId": "e64dcd3a-4518-4398-bcde-001752809ccb"
      },
      "source": [
        "plt.plot(np.squeeze(model.predict_on_batch(input)),\n",
        "         np.squeeze(z))\n",
        "plt.xlabel(\"Predicted Output\")\n",
        "plt.ylabel(\"Real Output\")\n",
        "plt.show()"
      ],
      "execution_count": 22,
      "outputs": [
        {
          "output_type": "display_data",
          "data": {
            "image/png": "[encoded data removed]",
            "text/plain": [
              "<Figure size 432x288 with 1 Axes>"
            ]
          },
          "metadata": {
            "tags": [],
            "needs_background": "light"
          }
        }
      ]
    },
    {
      "cell_type": "code",
      "metadata": {
        "colab": {
          "base_uri": "https://localhost:8080/"
        },
        "id": "CGb5GqkNcIBn",
        "outputId": "82f65f9b-9996-41d3-b677-48dddb13fe3f"
      },
      "source": [
        "print(\"Predicted z for x=2, y=3 ---> \", model.predict([[2,3]]).round(2))"
      ],
      "execution_count": 23,
      "outputs": [
        {
          "output_type": "stream",
          "text": [
            "Predicted z for x=2, y=3 --->  [[36.96]]\n"
          ],
          "name": "stdout"
        }
      ]
    },
    {
      "cell_type": "code",
      "metadata": {
        "colab": {
          "base_uri": "https://localhost:8080/"
        },
        "id": "IaHm1WDQcXed",
        "outputId": "d70e6499-0c1e-4702-f279-665e034d9c23"
      },
      "source": [
        "print(\"Expected output: \", 7*2 + 6*3 + 5)"
      ],
      "execution_count": 24,
      "outputs": [
        {
          "output_type": "stream",
          "text": [
            "Expected output:  37\n"
          ],
          "name": "stdout"
        }
      ]
    },
    {
      "cell_type": "code",
      "metadata": {
        "id": "UFyz6j9mdGWV"
      },
      "source": [
        ""
      ],
      "execution_count": null,
      "outputs": []
    }
  ]
}